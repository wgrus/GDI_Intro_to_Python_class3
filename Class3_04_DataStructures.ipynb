{
 "cells": [
  {
   "cell_type": "markdown",
   "metadata": {},
   "source": [
    "Data Structures\n",
    "===============\n",
    "\n",
    "Data structures are collections of objects. The four defined data structures are\n",
    "\n",
    "1. list\n",
    "\n",
    "2. dictionary\n",
    "\n",
    "3. tuple\n",
    "\n",
    "4. set\n",
    "\n",
    "Data structures can be either **mutable** - you can change the contents after assignment - or **immutable** - you cannot change the contents after assignment.\n",
    "\n",
    "Data structures cab be either **ordered** - original order of components is maintained - or **unordered** - the order of the elements might not be the same as the original order."
   ]
  },
  {
   "cell_type": "markdown",
   "metadata": {},
   "source": [
    "A **list** is an ordered, mutable collection of objects. The objects don't have to be the same type. A variable can be assigned a list. To define a list, enclose the comma-separated values in [] or use the list() function.\n",
    "\n",
    "> listA = [1,2,3]\n",
    "\n",
    "> listB = ['1', 32, 'Frank']"
   ]
  },
  {
   "cell_type": "code",
   "execution_count": null,
   "metadata": {
    "collapsed": true
   },
   "outputs": [],
   "source": []
  },
  {
   "cell_type": "markdown",
   "metadata": {},
   "source": [
    "If you add two lists together, their contents are combined.\n",
    "\n",
    "> listC = listA + listB\n",
    "\n",
    "> print(listC)"
   ]
  },
  {
   "cell_type": "code",
   "execution_count": null,
   "metadata": {
    "collapsed": true
   },
   "outputs": [],
   "source": []
  },
  {
   "cell_type": "markdown",
   "metadata": {},
   "source": [
    "Lists have several methods, the most useful of which is .append()\n",
    "\n",
    "A list can be created as an empty list and have values added to it with .append()\n",
    "\n",
    "> to_dos = []\n",
    "\n",
    "> to_dos.append('buy soy milk')\n",
    "\n",
    "> to_dos.append('install git')\n",
    "\n",
    "> print(to_dos)\n"
   ]
  },
  {
   "cell_type": "code",
   "execution_count": null,
   "metadata": {
    "collapsed": true
   },
   "outputs": [],
   "source": []
  },
  {
   "cell_type": "markdown",
   "metadata": {},
   "source": [
    "We use the **in** operator to determine if an element is in a list.\n",
    "\n",
    "> names = ['Mary', 'Martha', 'George']\n",
    "\n",
    "> george_present = 'George' in names\n",
    "\n",
    "> print(george_present)\n"
   ]
  },
  {
   "cell_type": "code",
   "execution_count": null,
   "metadata": {
    "collapsed": true
   },
   "outputs": [],
   "source": []
  },
  {
   "cell_type": "markdown",
   "metadata": {},
   "source": [
    "Lists and many other collections are **iterable**.\n",
    "\n",
    "Once defined, we can iterate on them, performing an action with each element.\n",
    "\n",
    "> shipping_cost = 2.5\n",
    "\n",
    "> prices = [3, 4, 5.25]\n",
    "\n",
    "> costs = []\n",
    "\n",
    "> for price in prices:\n",
    "\n",
    ">     costs.append(price + shipping_cost)\n",
    "\n",
    "> for cost in costs:\n",
    "\n",
    ">     print(cost)\n"
   ]
  },
  {
   "cell_type": "code",
   "execution_count": null,
   "metadata": {
    "collapsed": true
   },
   "outputs": [],
   "source": []
  },
  {
   "cell_type": "markdown",
   "metadata": {},
   "source": [
    "An element can also be obtained from a list through indexing.\n",
    "\n",
    "This allows us to obtain an element without iterating through the entire collection if we just want one value.\n",
    "\n",
    "To index on a collection, follow it immediately with [index]. For lists, the index is always an integer.\n",
    "\n",
    "Lists and other collections in Python are zero indexed. This means that the number 0 refers to first element in the list. Negative indices mean \"go back from the end this many\". e.g. -1 is the last element, -2 is the penultimate\n",
    "\n",
    "> to_dos = ['install git', 'read email', 'make lunch',]\n",
    "\n",
    "> print(to_dos[0])\n",
    "\n",
    "> print(to_dos[1])\n",
    "\n",
    "> print(to_dos[-1])\n",
    "\n"
   ]
  },
  {
   "cell_type": "code",
   "execution_count": null,
   "metadata": {
    "collapsed": true
   },
   "outputs": [],
   "source": []
  },
  {
   "cell_type": "markdown",
   "metadata": {},
   "source": [
    "Email your fans\n",
    "===============\n",
    "\n",
    "You are signing people up for a mailing list because they are interested in your band. When they signed themselves up, there was no restrictions on capitalization, but when you email them, you want to use standard capitalization. Write a program than takes in the following list of names, and for each name prints out \"Dear so-and-so\" with their name correctly capitalized.\n",
    "\n",
    "**Hints** Use string methods.\n",
    "\n",
    "> names = ['wendy', 'SHANNON', 'Valentine', 'ruby', 'Samantha', 'VERONICA', 'Jen', 'cAndace']\n",
    "\n",
    "> for name in names:"
   ]
  },
  {
   "cell_type": "code",
   "execution_count": null,
   "metadata": {
    "collapsed": true
   },
   "outputs": [],
   "source": []
  },
  {
   "cell_type": "markdown",
   "metadata": {},
   "source": [
    "Run each of these lines on its own.\n",
    "\n",
    "> print(listC)\n",
    "\n",
    "> print(listC[2])\n",
    "\n",
    "> listC[2] = 56\n",
    "\n",
    "> print(listC)\n",
    "\n",
    "> print(len(listC))\n",
    "\n",
    "> print(listC[6])\n",
    "\n",
    "> listC[6] = 'cookies'"
   ]
  },
  {
   "cell_type": "code",
   "execution_count": null,
   "metadata": {
    "collapsed": true
   },
   "outputs": [],
   "source": []
  },
  {
   "cell_type": "code",
   "execution_count": null,
   "metadata": {
    "collapsed": true
   },
   "outputs": [],
   "source": []
  },
  {
   "cell_type": "code",
   "execution_count": null,
   "metadata": {
    "collapsed": true
   },
   "outputs": [],
   "source": []
  },
  {
   "cell_type": "code",
   "execution_count": null,
   "metadata": {
    "collapsed": true
   },
   "outputs": [],
   "source": []
  },
  {
   "cell_type": "code",
   "execution_count": null,
   "metadata": {
    "collapsed": true
   },
   "outputs": [],
   "source": []
  },
  {
   "cell_type": "code",
   "execution_count": null,
   "metadata": {
    "collapsed": false
   },
   "outputs": [],
   "source": []
  },
  {
   "cell_type": "code",
   "execution_count": null,
   "metadata": {
    "collapsed": true
   },
   "outputs": [],
   "source": []
  },
  {
   "cell_type": "markdown",
   "metadata": {},
   "source": [
    "**Tuples** are like lists, but they are immutable. They are particularly good at storing collections of a fixed and predictable size. Use '()' to define tuples\n",
    "\n",
    "An x, y coordinate pair, or the RGB values of a color are good candidates for tuples.\n",
    "\n",
    "> coordinates = (47.6097, -122.3331)\n",
    "\n",
    "> latitude, longitude = coordinates\n",
    "\n",
    "> print(latitude)\n"
   ]
  },
  {
   "cell_type": "code",
   "execution_count": null,
   "metadata": {
    "collapsed": true
   },
   "outputs": [],
   "source": []
  },
  {
   "cell_type": "markdown",
   "metadata": {},
   "source": [
    "> point_a = (0, 1)\n",
    "\n",
    "> x = point_a[0]\n",
    "\n",
    "> y = point_a[1]\n"
   ]
  },
  {
   "cell_type": "code",
   "execution_count": null,
   "metadata": {
    "collapsed": true
   },
   "outputs": [],
   "source": []
  },
  {
   "cell_type": "markdown",
   "metadata": {},
   "source": [
    "Remember the geometry functions from Class3_02_MoreFunctions? Some of these can be simplified using tuples.\n",
    "\n",
    "> def find_width_height(point_a, point_b):\n",
    "    \n",
    ">     x_a, y_a = point_a\n",
    "\n",
    ">     x_b, y_b = point_b\n",
    "    \n",
    "\n",
    ">     return abs(x_a - x_b), abs(y_a - y_b)\n",
    "\n",
    "\n",
    "> point_a = (5, 0)\n",
    "\n",
    "> point_b = (10, 4)\n",
    "\n",
    "> dimensions = find_width_height(point_a, point_b)\n",
    "\n",
    "> print('The width is ', dimensions[0], ', and the height is, ', dimensions[2])"
   ]
  },
  {
   "cell_type": "code",
   "execution_count": null,
   "metadata": {
    "collapsed": true
   },
   "outputs": [],
   "source": []
  },
  {
   "cell_type": "markdown",
   "metadata": {},
   "source": [
    "**Sets** are unordered collections whose elements are unique. Therefore, adding a value to a set that already has it, does nothing.\n",
    "\n",
    "Sets can be created with comma separated elements enclosed in '{}'. Very often, one will make a list and use the set() function. Note: you will want to use the set() function to create an empty set, as empty {} will create a dictionary.\n",
    "\n",
    "> set_a = set([0, 3, 7])\n",
    "\n",
    "> set_b = set([0, 4, 7])\n",
    "\n",
    ".add() is a set method that acts like .append() for lists\n",
    "\n",
    "> print(set_a.add(4))\n",
    "\n",
    "> set_c = {0, 65, 7} "
   ]
  },
  {
   "cell_type": "code",
   "execution_count": null,
   "metadata": {
    "collapsed": true
   },
   "outputs": [],
   "source": [
    "\n"
   ]
  },
  {
   "cell_type": "markdown",
   "metadata": {},
   "source": [
    "Sets have nice methods for reasoning about their relationship to other sets. (Think Venn Diagram)\n",
    "\n",
    "> print (set_a.union(set_b))"
   ]
  },
  {
   "cell_type": "code",
   "execution_count": null,
   "metadata": {
    "collapsed": false
   },
   "outputs": [],
   "source": []
  },
  {
   "cell_type": "markdown",
   "metadata": {},
   "source": [
    "A **dictionary** (sometimes called a \"hashmap\") is a collection of key/value pairs, defined with '{}'\n",
    "\n",
    "Think of words in a dictionary. The words are keys and the definitions are values.\n",
    "\n",
    "This dictionary would be indexed with strings such as 'food' and 'beverage' instead of integers like in a list\n",
    "\n",
    "> menu_categories = {'food': 'stuff you eat', 'beverage': 'stuff you drink'}"
   ]
  },
  {
   "cell_type": "code",
   "execution_count": null,
   "metadata": {
    "collapsed": true
   },
   "outputs": [],
   "source": []
  },
  {
   "cell_type": "markdown",
   "metadata": {},
   "source": [
    "Dictionaries aren't literally just for definitions. They represent a group of mappings. A mapping might be: menu items -> costs.\n",
    "\n",
    "We can also index on dictionaries.\n",
    "\n",
    "The most common indexes are strings, but they can be whatever type the keys are.\n",
    "\n",
    "> menu = {'tofu': 4}\n",
    "\n",
    "> tofu_cost = menu['tofu']\n",
    "\n"
   ]
  },
  {
   "cell_type": "code",
   "execution_count": null,
   "metadata": {
    "collapsed": true
   },
   "outputs": [],
   "source": []
  },
  {
   "cell_type": "markdown",
   "metadata": {},
   "source": [
    "Indexing on a key that doesn't exist results in a KeyError\n",
    "\n",
    "> pizza_cost = menu['pizza']"
   ]
  },
  {
   "cell_type": "code",
   "execution_count": null,
   "metadata": {
    "collapsed": true
   },
   "outputs": [],
   "source": []
  },
  {
   "cell_type": "markdown",
   "metadata": {},
   "source": [
    "For dictionaries, the in operator works on keys.\n",
    "\n",
    "> print('tofu' in menu)\n",
    "\n",
    "> print(4 in menu)"
   ]
  },
  {
   "cell_type": "code",
   "execution_count": null,
   "metadata": {
    "collapsed": true
   },
   "outputs": [],
   "source": []
  },
  {
   "cell_type": "markdown",
   "metadata": {},
   "source": [
    "Some of the most essential dictionary methods are .keys(), .values(), .items(), and .get()\n",
    "\n",
    ".get() will return None if the key isn't present or a default value if provided.\n",
    "\n",
    "> menu = {\n",
    ">    'tofu': 4,\n",
    ">    'pizza': 8,\n",
    ">    'baguette': 3\n",
    "> }\n",
    "\n",
    "> print(menu.keys())\n",
    "\n",
    "> print(menu.values())\n",
    "\n",
    "> print(menu.items())\n",
    "\n",
    "> print(menu.get('pizza'))\n",
    "\n",
    "> print(menu.get('water'))\n",
    "\n",
    "> print(menu.get('juice', 5))\n"
   ]
  },
  {
   "cell_type": "code",
   "execution_count": null,
   "metadata": {
    "collapsed": true
   },
   "outputs": [],
   "source": []
  },
  {
   "cell_type": "markdown",
   "metadata": {},
   "source": [
    "Make a Happy Hour menu\n",
    "======================\n",
    "\n",
    "A Neighborhood bar has the following menu\n",
    "\n",
    "- pizza : $5\n",
    "\n",
    "- nachos : $7\n",
    "\n",
    "- hamburger : $8\n",
    "\n",
    "- hot dog : $4\n",
    "\n",
    "- soft pretzel : $4\n",
    "\n",
    "- cheese sticks : $5\n",
    "\n",
    "- chicken wings : $8\n",
    "\n",
    "- hummus plate : $5\n",
    " \n",
    "To drum up business, the bar decides to have a happy hour where foods that start with the letter 'h' are half price. Write a program that will make a new menu for happy hour."
   ]
  },
  {
   "cell_type": "code",
   "execution_count": null,
   "metadata": {
    "collapsed": true
   },
   "outputs": [],
   "source": [
    "bar_menu = {}\n",
    "happy_hour_menu = {}"
   ]
  },
  {
   "cell_type": "code",
   "execution_count": null,
   "metadata": {
    "collapsed": true
   },
   "outputs": [],
   "source": []
  },
  {
   "cell_type": "markdown",
   "metadata": {},
   "source": [
    "Python provides several functions that help us work with these collections.\n",
    "\n",
    "**len()** Given a collection, return its length \n",
    "\n",
    "> print(len([1, 2]))\n",
    "\n",
    "**sorted()** Given a collection, returns a sorted copy of that collection \n",
    "\n",
    "> grades = [93, 100, 60]\n",
    "\n",
    "> grades = sorted(grades)\n",
    "\n",
    "> print(grades)\n",
    "\n",
    "**enumerate()** Returns a list of (index, element) from the list \n",
    "\n",
    "> print('To Do:')\n",
    "\n",
    "> to_dos = ['work', 'sleep', 'work']\n",
    "\n",
    "> for index, item in enumerate(to_dos):\n",
    "    \n",
    ">     print('{0}. {1}'.format(index + 1, item))\n",
    "\n",
    "> print(list(enumerate(to_dos)))\n",
    "\n",
    "**zip()** Given one or more iterables, returns a list of tuples with an element from each iterable \n",
    "\n",
    "> widths = [10, 15, 20]\n",
    "\n",
    "> heights = [5, 8, 12]\n",
    "\n",
    "> for width, height in zip(widths, heights):\n",
    "\n",
    ">     print('Area is {0}'.format(width * height))\n"
   ]
  },
  {
   "cell_type": "code",
   "execution_count": null,
   "metadata": {
    "collapsed": true
   },
   "outputs": [],
   "source": []
  },
  {
   "cell_type": "code",
   "execution_count": null,
   "metadata": {
    "collapsed": true
   },
   "outputs": [],
   "source": []
  },
  {
   "cell_type": "code",
   "execution_count": null,
   "metadata": {
    "collapsed": true
   },
   "outputs": [],
   "source": []
  },
  {
   "cell_type": "code",
   "execution_count": null,
   "metadata": {
    "collapsed": true
   },
   "outputs": [],
   "source": []
  },
  {
   "cell_type": "markdown",
   "metadata": {},
   "source": [
    "99 Bottles of Beer on the Wall\n",
    "=============================\n",
    "\n",
    "Write a program that prints out the lyrics to \"99 bottles of beer on the wall\". Make sure the lyrics are grammatically correct for subject verb agreement.\n",
    "\n",
    "Hint: Use range() Type help(range) to figure out how to use it."
   ]
  },
  {
   "cell_type": "code",
   "execution_count": null,
   "metadata": {
    "collapsed": true
   },
   "outputs": [],
   "source": []
  }
 ],
 "metadata": {
  "kernelspec": {
   "display_name": "py35",
   "language": "python",
   "name": "py35"
  },
  "language_info": {
   "codemirror_mode": {
    "name": "ipython",
    "version": 3
   },
   "file_extension": ".py",
   "mimetype": "text/x-python",
   "name": "python",
   "nbconvert_exporter": "python",
   "pygments_lexer": "ipython3",
   "version": "3.5.1"
  }
 },
 "nbformat": 4,
 "nbformat_minor": 0
}
