{
 "cells": [
  {
   "cell_type": "markdown",
   "metadata": {},
   "source": [
    "Review From Class 2:\n",
    "====================\n",
    "\n",
    "1. Booleans - Statements or Variables that have a True or False value\n",
    "\n",
    "2. Conditionals - if, if/else, if/elif/else statements that execute code in certain boolean conditions \n",
    "\n",
    "3. While loops - Code is executed as long as the boolean expression remains true\n",
    "\n",
    "4. Functions - builtin, imported, or programmed lines of code that act together to perform a specifc task\n",
    "\n",
    "Link to Medium Article ['Stop saying learning to code is easy'](https://medium.com/@shanselman/stop-saying-learning-to-code-is-easy-659c5f4c0d7#.sma0y186r)\n",
    "\n",
    "Link to Women2.0 Article [#TechTuesday: How I Got My Developer Job at Khan Academy (as Someone Who Was Severely Underqualified](http://women2.com/2014/07/01/got-developer-job-khan-academy-someone-severely-underqualified/)"
   ]
  },
  {
   "cell_type": "markdown",
   "metadata": {},
   "source": [
    "What we will cover in Class 3:\n",
    "==============================\n",
    "\n",
    "1. More Functions\n",
    "\n",
    "2. Methods\n",
    "\n",
    "3. Lists, Dictionaries, Sets, Tuples\n",
    "\n",
    "4. For Loops"
   ]
  },
  {
   "cell_type": "markdown",
   "metadata": {},
   "source": [
    "Remember the \"rules\"\n",
    "====================\n",
    "\n",
    "- We are here for you!\n",
    "\n",
    "- Every question is important\n",
    "\n",
    "- Help each other\n",
    "\n",
    "- Have fun"
   ]
  },
  {
   "cell_type": "markdown",
   "metadata": {},
   "source": [
    "Share your code!\n",
    "======================\n",
    "\n",
    "![title](img/ShareYourCode.PNG)\n",
    "\n",
    "[from: www.reddit/r/Python](https://www.reddit.com/r/Python/comments/4oyya0/how_are_you_using_python_scripts_as_your_personal/)"
   ]
  },
  {
   "cell_type": "code",
   "execution_count": null,
   "metadata": {
    "collapsed": true
   },
   "outputs": [],
   "source": []
  }
 ],
 "metadata": {
  "kernelspec": {
   "display_name": "py35",
   "language": "python",
   "name": "py35"
  },
  "language_info": {
   "codemirror_mode": {
    "name": "ipython",
    "version": 3
   },
   "file_extension": ".py",
   "mimetype": "text/x-python",
   "name": "python",
   "nbconvert_exporter": "python",
   "pygments_lexer": "ipython3",
   "version": "3.5.1"
  }
 },
 "nbformat": 4,
 "nbformat_minor": 0
}
