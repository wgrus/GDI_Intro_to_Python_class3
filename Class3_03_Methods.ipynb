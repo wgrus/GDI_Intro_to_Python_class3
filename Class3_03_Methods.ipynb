{
 "cells": [
  {
   "cell_type": "markdown",
   "metadata": {},
   "source": [
    "Methods\n",
    "=======\n",
    "\n",
    "A **method** is like a function but it is \"bound\" to an object.\n",
    "\n",
    "For example, the integers and strings we've been using have methods attached to them\n",
    "\n",
    "We can use the dir() function to see the methods of an object and help() to see what they do.\n",
    "\n",
    "> a = 4\n",
    "\n",
    "> print(dir(a))\n",
    "\n",
    "> name = 'wendy'\n",
    "\n",
    "> sentence = 'the quick brown fox did the thing with the thing'\n",
    "\n",
    "> print(dir(name))\n"
   ]
  },
  {
   "cell_type": "code",
   "execution_count": null,
   "metadata": {
    "collapsed": true
   },
   "outputs": [],
   "source": []
  },
  {
   "cell_type": "code",
   "execution_count": null,
   "metadata": {
    "collapsed": true
   },
   "outputs": [],
   "source": []
  },
  {
   "cell_type": "markdown",
   "metadata": {},
   "source": [
    "Methods are called by typing the name of the object followed by period followed by the name of the method(). If there are any parameters for the method, they go in the parentheses. For example, the count() method works on strings and counts the number of times the character in the parentheses is in the strng.\n",
    "\n",
    "> sentence = 'Wendy ate donuts for breakfast'\n",
    "\n",
    "> sentence_a_count = sentence.count('a')\n",
    "\n",
    "> print(sentence_a_count)"
   ]
  },
  {
   "cell_type": "code",
   "execution_count": null,
   "metadata": {
    "collapsed": true
   },
   "outputs": [],
   "source": []
  },
  {
   "cell_type": "markdown",
   "metadata": {},
   "source": [
    "> sentence.upper()"
   ]
  },
  {
   "cell_type": "markdown",
   "metadata": {},
   "source": [
    "To see what methods are available for an object, type the object's name followed by a period and hit tab. All the available methods for a defined object will be in a drop-down menu. Or, you can use the dir() function on your object.\n",
    "\n",
    "Let's write a function to determine if a sentence has enough a's in it. The input is a string. If the string has at least 4 a's in it, the function returns that the string has enough a's in it. If the string has less than 4 a's, the function returns that you need more a's.\n",
    "\n",
    "The comments under the definition line is called the docstring. It should give enough information for any usage questions. When you use the help() function on a function, it will give you the docstring for the function.\n"
   ]
  },
  {
   "cell_type": "code",
   "execution_count": null,
   "metadata": {
    "collapsed": true
   },
   "outputs": [],
   "source": [
    "def has_enough_as(string):\n",
    "    '''Takes in a string and returns a sentence depending on how many a's are in it.'''\n",
    "    \n",
    "    "
   ]
  },
  {
   "cell_type": "markdown",
   "metadata": {},
   "source": [
    "> print(has_enough_as(sentence))\n",
    "\n",
    "> sentence = 'Wendy ate donuts and sausage for breakfast'\n",
    "\n",
    "> print(has_enough_as(sentence))"
   ]
  },
  {
   "cell_type": "code",
   "execution_count": null,
   "metadata": {
    "collapsed": true
   },
   "outputs": [],
   "source": []
  }
 ],
 "metadata": {
  "kernelspec": {
   "display_name": "py35",
   "language": "python",
   "name": "py35"
  },
  "language_info": {
   "codemirror_mode": {
    "name": "ipython",
    "version": 3
   },
   "file_extension": ".py",
   "mimetype": "text/x-python",
   "name": "python",
   "nbconvert_exporter": "python",
   "pygments_lexer": "ipython3",
   "version": "3.5.1"
  }
 },
 "nbformat": 4,
 "nbformat_minor": 0
}
